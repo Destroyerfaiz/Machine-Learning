{
  "nbformat": 4,
  "nbformat_minor": 0,
  "metadata": {
    "colab": {
      "name": "Internshala",
      "provenance": [],
      "authorship_tag": "ABX9TyP1/LH1dtpVZ8hbTj5jCnDc",
      "include_colab_link": true
    },
    "kernelspec": {
      "name": "python3",
      "display_name": "Python 3"
    }
  },
  "cells": [
    {
      "cell_type": "markdown",
      "metadata": {
        "id": "view-in-github",
        "colab_type": "text"
      },
      "source": [
        "<a href=\"https://colab.research.google.com/github/Faizgeeky/Machine-Learning/blob/master/Internshala.ipynb\" target=\"_parent\"><img src=\"https://colab.research.google.com/assets/colab-badge.svg\" alt=\"Open In Colab\"/></a>"
      ]
    },
    {
      "cell_type": "code",
      "metadata": {
        "id": "MM0aSTDIrBK0",
        "colab_type": "code",
        "colab": {
          "base_uri": "https://localhost:8080/",
          "height": 34
        },
        "outputId": "1bf1413b-df09-4204-a5d8-8942a5aff046"
      },
      "source": [
        "\n",
        "#[(3,0), (0,10), (2,1), (5,3)] Example output: [(3,0),(2,1),(5,3),(0,10)]\n",
        "    \n",
        "    \n",
        "l = [(3,0), (0,10), (2,1), (5,3)] \n",
        "\n",
        "lst = len(l)  \n",
        "for i in range(0, lst):          \n",
        "    for j in range(0, lst-i-1):  \n",
        "        if (l[j][1] > l[j + 1][1]):  \n",
        "            temp = l[j]  \n",
        "            l[j]= l[j + 1]  \n",
        "            l[j + 1]= temp\n",
        "print(l)"
      ],
      "execution_count": 1,
      "outputs": [
        {
          "output_type": "stream",
          "text": [
            "[(3, 0), (2, 1), (5, 3), (0, 10)]\n"
          ],
          "name": "stdout"
        }
      ]
    },
    {
      "cell_type": "code",
      "metadata": {
        "id": "NWFVS5NQrTDU",
        "colab_type": "code",
        "colab": {}
      },
      "source": [
        "fh = open('yourfile.txt', 'r')\n",
        "\n",
        "longestlist = []  \n",
        "longestword = ''  \n",
        "\n",
        "for line in fh:\n",
        "    words = (line.strip().split(' '))  \n",
        "    for word in words:  \n",
        "        word = ''.join(c for c in word if c.isalpha())  \n",
        "        if len(word) > (longestword):  \n",
        "            longest.append(word)\n",
        "\n",
        "print(max(longestlist))"
      ],
      "execution_count": null,
      "outputs": []
    },
    {
      "cell_type": "code",
      "metadata": {
        "id": "_yKSWXb5rglt",
        "colab_type": "code",
        "colab": {}
      },
      "source": [
        "fh = open(\"yourfile.txt\",'r')\n",
        "list_words_len = []\n",
        "\n",
        "for line in fh:\n",
        "  word = (line.strpi().split(' '))\n",
        "  if word[-2:] == \"ed\" or word[-3:] ==\"ion\":\n",
        "    list_words_len.append(len(word))\n",
        "  \n",
        "avg_len = sum(list_words_len) / 2\n",
        "\n",
        "print(avg_len)"
      ],
      "execution_count": null,
      "outputs": []
    },
    {
      "cell_type": "code",
      "metadata": {
        "id": "UoBPdg6nswR5",
        "colab_type": "code",
        "colab": {
          "base_uri": "https://localhost:8080/",
          "height": 34
        },
        "outputId": "e0890587-232b-46fa-ea49-186370e20313"
      },
      "source": [
        "ax,ay,bx,by,cx,cy = 2,4,5,6,5,8\n",
        "d = 2 * (ax * (by - cy) + bx * (cy - ay) + cx * (ay - by))\n",
        "ux = ((ax * ax + ay * ay) * (by - cy) + (bx * bx + by * by) * (cy - ay) + (cx * cx + cy * cy) * (ay - by)) / d\n",
        "uy = ((ax * ax + ay * ay) * (cx - bx) + (bx * bx + by * by) * (ax - cx) + (cx * cx + cy * cy) * (bx - ax)) / d\n",
        "print(ux, uy)"
      ],
      "execution_count": 4,
      "outputs": [
        {
          "output_type": "stream",
          "text": [
            "2.1666666666666665 7.0\n"
          ],
          "name": "stdout"
        }
      ]
    },
    {
      "cell_type": "code",
      "metadata": {
        "id": "pUHM8wlvua5_",
        "colab_type": "code",
        "colab": {}
      },
      "source": [
        ""
      ],
      "execution_count": null,
      "outputs": []
    }
  ]
}